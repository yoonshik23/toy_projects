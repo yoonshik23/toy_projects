{
 "cells": [
  {
   "cell_type": "code",
   "execution_count": 1,
   "metadata": {},
   "outputs": [],
   "source": [
    "import pandas as pd\n",
    "import numpy as np\n",
    "import matplotlib.pyplot as plt\n",
    "import glob\n",
    "import pickle\n",
    "import time\n"
   ]
  },
  {
   "cell_type": "code",
   "execution_count": 2,
   "metadata": {},
   "outputs": [],
   "source": [
    "from itertools import product\n",
    "from math import sqrt\n",
    "from math import pow\n",
    "\n",
    "import gurobipy as gp\n",
    "from gurobipy import GRB"
   ]
  },
  {
   "cell_type": "code",
   "execution_count": null,
   "metadata": {},
   "outputs": [],
   "source": [
    "m = gp.Model('led_location')\n",
    "a = m.addVars(1, vtype=GRB.CONTINUOUS)\n",
    "m.setObjective(a[0], GRB.MINIMIZE)\n",
    "b=m.addConstr(a[0]-2<=0)\n",
    "m.update()\n",
    "m.optimize()"
   ]
  },
  {
   "cell_type": "code",
   "execution_count": 3,
   "metadata": {},
   "outputs": [
    {
     "name": "stdout",
     "output_type": "stream",
     "text": [
      "<itertools.product object at 0x000002290E5658B8>\n"
     ]
    }
   ],
   "source": [
    "print(product(range(3),range(4)))"
   ]
  },
  {
   "cell_type": "code",
   "execution_count": 4,
   "metadata": {},
   "outputs": [],
   "source": [
    "# 밝기정보 불러오기\n",
    "with open('data.pickle', 'rb') as f:\n",
    "    data = pickle.load(f) "
   ]
  },
  {
   "cell_type": "code",
   "execution_count": 5,
   "metadata": {},
   "outputs": [
    {
     "name": "stdout",
     "output_type": "stream",
     "text": [
      "3111\n"
     ]
    }
   ],
   "source": [
    "# 변수 설정\n",
    "idx = list(data)\n",
    "num_led = len(idx)\n",
    "print(len(idx))\n",
    "penalty = 0.0000000001\n",
    "length = 3000\n",
    "bright = 70*101*101/100000"
   ]
  },
  {
   "cell_type": "code",
   "execution_count": 6,
   "metadata": {},
   "outputs": [],
   "source": [
    "data2=[]\n",
    "for i in range(num_led):\n",
    "    data2.append(data[idx[i]].reshape(101*101))\n",
    "data2 = np.asarray(data2)\n",
    "del data"
   ]
  },
  {
   "cell_type": "code",
   "execution_count": 7,
   "metadata": {},
   "outputs": [],
   "source": [
    "data3=[]\n",
    "for i in range(num_led):\n",
    "    data3.append(data2[i]*10**5)\n",
    "data3 = np.asarray(data3)"
   ]
  },
  {
   "cell_type": "code",
   "execution_count": null,
   "metadata": {},
   "outputs": [],
   "source": [
    "from skimage.io import imshow"
   ]
  },
  {
   "cell_type": "code",
   "execution_count": null,
   "metadata": {
    "scrolled": true
   },
   "outputs": [
    {
     "name": "stdout",
     "output_type": "stream",
     "text": [
      "Changed value of parameter TimeLimit to 10800.0\n",
      "   Prev: inf  Min: 0.0  Max: inf  Default: inf\n",
      "Gurobi Optimizer version 9.0.3 build v9.0.3rc0 (win64)\n",
      "Optimize a model with 20404 rows, 3113 columns and 54541854 nonzeros\n",
      "Model fingerprint: 0xff9d8ddf\n",
      "Variable types: 2 continuous, 3111 integer (3111 binary)\n",
      "Coefficient statistics:\n",
      "  Matrix range     [2e-06, 6e+02]\n",
      "  Objective range  [1e+00, 1e+00]\n",
      "  Bounds range     [1e+00, 1e+00]\n",
      "  RHS range        [2e+03, 8e+05]\n",
      "Presolve removed 0 rows and 0 columns (presolve time = 7s) ...\n",
      "Presolve removed 0 rows and 0 columns (presolve time = 36s) ...\n",
      "Presolve removed 0 rows and 0 columns (presolve time = 89s) ...\n",
      "Presolve added 3 rows and 3 columns\n",
      "Presolve time: 88.54s\n",
      "Presolved: 20407 rows, 3116 columns, 54541676 nonzeros\n",
      "Variable types: 2 continuous, 3114 integer (3111 binary)\n",
      "\n",
      "Root simplex log...\n",
      "\n",
      "Iteration    Objective       Primal Inf.    Dual Inf.      Time\n",
      "       0   -1.5750437e+02   0.000000e+00   1.641326e+06    131s\n",
      "    2417    7.9314462e+00   0.000000e+00   8.217660e+04    138s\n",
      "    2577    7.9663629e+00   0.000000e+00   1.179695e+04    145s\n",
      "    2737    8.0090521e+00   0.000000e+00   9.561970e+04    153s\n",
      "    2897    8.0855609e+00   0.000000e+00   1.070843e+05    160s\n",
      "    3057    8.1643788e+00   0.000000e+00   4.481972e+05    167s\n",
      "    3217    8.2502380e+00   0.000000e+00   8.983117e+05    174s\n",
      "    3377    8.3447767e+00   0.000000e+00   1.088826e+06    182s\n",
      "    3517    8.4203430e+00   0.000000e+00   8.040874e+05    188s\n",
      "    3657    8.4655673e+00   0.000000e+00   6.266717e+05    195s\n",
      "    3797    8.5026262e+00   0.000000e+00   2.441371e+05    202s\n",
      "    3937    8.5448900e+00   0.000000e+00   2.114301e+05    209s\n",
      "    4077    8.5705099e+00   0.000000e+00   7.570944e+05    216s\n",
      "    4217    8.5956412e+00   0.000000e+00   4.094310e+05    223s\n",
      "    4357    8.6217146e+00   0.000000e+00   2.154763e+05    230s\n",
      "    4497    8.6500596e+00   0.000000e+00   1.027770e+06    237s\n",
      "    4637    8.6738299e+00   0.000000e+00   4.009000e+05    244s\n",
      "    4777    8.6944987e+00   0.000000e+00   6.281755e+05    251s\n",
      "    4917    8.7127525e+00   0.000000e+00   1.396674e+05    258s\n",
      "    5057    8.7345370e+00   0.000000e+00   3.067921e+05    266s\n",
      "    5197    8.7543614e+00   0.000000e+00   1.949484e+05    273s\n",
      "    5337    8.7666559e+00   0.000000e+00   5.468664e+05    280s\n",
      "    5477    8.7756431e+00   0.000000e+00   3.193339e+05    288s\n",
      "    5617    8.7855183e+00   0.000000e+00   2.963699e+05    295s\n",
      "    5757    8.7954857e+00   0.000000e+00   1.657520e+05    302s\n",
      "    5897    8.8038729e+00   0.000000e+00   3.693442e+05    310s\n",
      "    6037    8.8136804e+00   0.000000e+00   9.261275e+04    317s\n",
      "    6177    8.8231701e+00   0.000000e+00   1.297510e+05    324s\n",
      "    6317    8.8369934e+00   0.000000e+00   1.244795e+05    332s\n",
      "    6457    8.8480901e+00   0.000000e+00   6.683363e+04    339s\n",
      "    6597    8.8605210e+00   0.000000e+00   2.640790e+05    346s\n",
      "    6737    8.8687349e+00   0.000000e+00   9.104604e+04    354s\n",
      "    6877    8.8758794e+00   0.000000e+00   5.163127e+04    361s\n",
      "    7017    8.8846399e+00   0.000000e+00   4.255490e+04    368s\n",
      "    7157    8.8928519e+00   0.000000e+00   2.296395e+05    375s\n",
      "    7297    8.9004809e+00   0.000000e+00   1.252736e+05    382s\n",
      "    7437    8.9069470e+00   0.000000e+00   1.401278e+05    389s\n",
      "    7577    8.9122574e+00   0.000000e+00   8.723343e+04    396s\n",
      "    7717    8.9172970e+00   0.000000e+00   1.452406e+05    403s\n",
      "    7857    8.9227739e+00   0.000000e+00   1.781635e+05    410s\n",
      "    7997    8.9278563e+00   0.000000e+00   5.943709e+04    417s\n",
      "    8137    8.9318647e+00   0.000000e+00   2.878565e+04    424s\n",
      "    8277    8.9366496e+00   0.000000e+00   1.099809e+05    431s\n",
      "    8417    8.9395965e+00   0.000000e+00   9.752053e+03    438s\n",
      "    8557    8.9420476e+00   0.000000e+00   1.289516e+04    445s\n",
      "    8697    8.9440187e+00   0.000000e+00   1.336349e+04    452s\n",
      "    8837    8.9449536e+00   0.000000e+00   7.465834e+02    459s\n",
      "    8941    7.1429729e-01   9.904536e+00   0.000000e+00    466s\n",
      "    9688    6.7206985e-01   4.205272e+01   0.000000e+00    471s\n",
      "   10216    6.3627402e-01   5.910793e+01   0.000000e+00    476s\n",
      "   10728    6.0949412e-01   4.642355e+01   0.000000e+00    482s\n",
      "   11064    5.9644001e-01   3.019793e+02   0.000000e+00    486s\n",
      "   11396    5.8632817e-01   5.469633e+01   0.000000e+00    491s\n",
      "   11726    5.7692365e-01   2.311580e+02   0.000000e+00    496s\n",
      "   12052    5.6952967e-01   2.306573e+02   0.000000e+00    502s\n",
      "   12376    5.6363700e-01   1.940139e+01   0.000000e+00    507s\n",
      "   12699    5.5909941e-01   8.992753e+00   0.000000e+00    513s\n",
      "   12860    5.5613648e-01   4.138784e+01   0.000000e+00    515s\n",
      "   13184    5.5135192e-01   1.187757e+02   0.000000e+00    521s\n",
      "   13508    5.4772364e-01   9.360167e+01   0.000000e+00    527s\n",
      "   13832    5.4410084e-01   1.082845e+01   0.000000e+00    533s\n",
      "   13993    5.4249722e-01   4.522305e+01   0.000000e+00    536s\n",
      "   14316    5.3976014e-01   8.236248e+01   0.000000e+00    542s\n",
      "   14641    5.3766609e-01   2.196133e+01   0.000000e+00    548s\n",
      "   14802    5.3671016e-01   2.939121e+01   0.000000e+00    551s\n",
      "   15122    5.3515249e-01   2.787638e+00   0.000000e+00    557s\n",
      "   15447    5.3368936e-01   1.171863e+01   0.000000e+00    563s\n"
     ]
    },
    {
     "ename": "KeyboardInterrupt",
     "evalue": "",
     "output_type": "error",
     "traceback": [
      "\u001b[1;31m---------------------------------------------------------------------------\u001b[0m",
      "\u001b[1;31mKeyboardInterrupt\u001b[0m                         Traceback (most recent call last)",
      "\u001b[1;32m~\\anaconda3\\lib\\site-packages\\ipykernel\\iostream.py\u001b[0m in \u001b[0;36mwrite\u001b[1;34m(self, string)\u001b[0m\n\u001b[0;32m    385\u001b[0m \u001b[1;33m\u001b[0m\u001b[0m\n\u001b[0;32m    386\u001b[0m     \u001b[1;32mdef\u001b[0m \u001b[0mwrite\u001b[0m\u001b[1;33m(\u001b[0m\u001b[0mself\u001b[0m\u001b[1;33m,\u001b[0m \u001b[0mstring\u001b[0m\u001b[1;33m)\u001b[0m\u001b[1;33m:\u001b[0m\u001b[1;33m\u001b[0m\u001b[1;33m\u001b[0m\u001b[0m\n\u001b[1;32m--> 387\u001b[1;33m         \u001b[1;32mif\u001b[0m \u001b[0mself\u001b[0m\u001b[1;33m.\u001b[0m\u001b[0mecho\u001b[0m \u001b[1;32mis\u001b[0m \u001b[1;32mnot\u001b[0m \u001b[1;32mNone\u001b[0m\u001b[1;33m:\u001b[0m\u001b[1;33m\u001b[0m\u001b[1;33m\u001b[0m\u001b[0m\n\u001b[0m\u001b[0;32m    388\u001b[0m             \u001b[1;32mtry\u001b[0m\u001b[1;33m:\u001b[0m\u001b[1;33m\u001b[0m\u001b[1;33m\u001b[0m\u001b[0m\n\u001b[0;32m    389\u001b[0m                 \u001b[0mself\u001b[0m\u001b[1;33m.\u001b[0m\u001b[0mecho\u001b[0m\u001b[1;33m.\u001b[0m\u001b[0mwrite\u001b[0m\u001b[1;33m(\u001b[0m\u001b[0mstring\u001b[0m\u001b[1;33m)\u001b[0m\u001b[1;33m\u001b[0m\u001b[1;33m\u001b[0m\u001b[0m\n",
      "\u001b[1;31mKeyboardInterrupt\u001b[0m: "
     ]
    },
    {
     "name": "stderr",
     "output_type": "stream",
     "text": [
      "Exception ignored in: 'gurobipy.logcallbackstub'\n",
      "Traceback (most recent call last):\n",
      "  File \"C:\\Users\\yoons\\anaconda3\\lib\\site-packages\\ipykernel\\iostream.py\", line 387, in write\n",
      "    if self.echo is not None:\n",
      "KeyboardInterrupt\n"
     ]
    },
    {
     "name": "stdout",
     "output_type": "stream",
     "text": [
      "   15931    5.3240664e-01   2.475606e+00   0.000000e+00    572s\n",
      "   16253    5.3163037e-01   3.216267e+00   0.000000e+00    578s\n",
      "   16416    5.3134527e-01   2.826221e+00   0.000000e+00    581s\n",
      "   16742    5.3102909e-01   1.401417e-01   0.000000e+00    587s\n",
      "   16941    5.3097299e-01   0.000000e+00   0.000000e+00    591s\n",
      "   16941    5.3097299e-01   0.000000e+00   0.000000e+00    593s\n",
      "\n",
      "Root relaxation: objective 5.309730e-01, 16941 iterations, 477.34 seconds\n",
      "Total elapsed time = 596.73s\n",
      "\n",
      "    Nodes    |    Current Node    |     Objective Bounds      |     Work\n",
      " Expl Unexpl |  Obj  Depth IntInf | Incumbent    BestBd   Gap | It/Node Time\n",
      "\n",
      "     0     0    0.53097    0  647          -    0.53097      -     -  600s\n",
      "H    0     0                     122.8269194    0.53097   100%     -  651s\n"
     ]
    },
    {
     "ename": "KeyboardInterrupt",
     "evalue": "",
     "output_type": "error",
     "traceback": [
      "\u001b[1;31m---------------------------------------------------------------------------\u001b[0m",
      "\u001b[1;31mKeyboardInterrupt\u001b[0m                         Traceback (most recent call last)",
      "\u001b[1;32m~\\anaconda3\\lib\\site-packages\\ipykernel\\iostream.py\u001b[0m in \u001b[0;36mflush\u001b[1;34m(self)\u001b[0m\n\u001b[0;32m    350\u001b[0m                 \u001b[0mself\u001b[0m\u001b[1;33m.\u001b[0m\u001b[0mpub_thread\u001b[0m\u001b[1;33m.\u001b[0m\u001b[0mschedule\u001b[0m\u001b[1;33m(\u001b[0m\u001b[0mevt\u001b[0m\u001b[1;33m.\u001b[0m\u001b[0mset\u001b[0m\u001b[1;33m)\u001b[0m\u001b[1;33m\u001b[0m\u001b[1;33m\u001b[0m\u001b[0m\n\u001b[0;32m    351\u001b[0m                 \u001b[1;31m# and give a timeout to avoid\u001b[0m\u001b[1;33m\u001b[0m\u001b[1;33m\u001b[0m\u001b[1;33m\u001b[0m\u001b[0m\n\u001b[1;32m--> 352\u001b[1;33m                 \u001b[1;32mif\u001b[0m \u001b[1;32mnot\u001b[0m \u001b[0mevt\u001b[0m\u001b[1;33m.\u001b[0m\u001b[0mwait\u001b[0m\u001b[1;33m(\u001b[0m\u001b[0mself\u001b[0m\u001b[1;33m.\u001b[0m\u001b[0mflush_timeout\u001b[0m\u001b[1;33m)\u001b[0m\u001b[1;33m:\u001b[0m\u001b[1;33m\u001b[0m\u001b[1;33m\u001b[0m\u001b[0m\n\u001b[0m\u001b[0;32m    353\u001b[0m                     \u001b[1;31m# write directly to __stderr__ instead of warning because\u001b[0m\u001b[1;33m\u001b[0m\u001b[1;33m\u001b[0m\u001b[1;33m\u001b[0m\u001b[0m\n\u001b[0;32m    354\u001b[0m                     \u001b[1;31m# if this is happening sys.stderr may be the problem.\u001b[0m\u001b[1;33m\u001b[0m\u001b[1;33m\u001b[0m\u001b[1;33m\u001b[0m\u001b[0m\n",
      "\u001b[1;32m~\\anaconda3\\lib\\threading.py\u001b[0m in \u001b[0;36mwait\u001b[1;34m(self, timeout)\u001b[0m\n\u001b[0;32m    550\u001b[0m             \u001b[0msignaled\u001b[0m \u001b[1;33m=\u001b[0m \u001b[0mself\u001b[0m\u001b[1;33m.\u001b[0m\u001b[0m_flag\u001b[0m\u001b[1;33m\u001b[0m\u001b[1;33m\u001b[0m\u001b[0m\n\u001b[0;32m    551\u001b[0m             \u001b[1;32mif\u001b[0m \u001b[1;32mnot\u001b[0m \u001b[0msignaled\u001b[0m\u001b[1;33m:\u001b[0m\u001b[1;33m\u001b[0m\u001b[1;33m\u001b[0m\u001b[0m\n\u001b[1;32m--> 552\u001b[1;33m                 \u001b[0msignaled\u001b[0m \u001b[1;33m=\u001b[0m \u001b[0mself\u001b[0m\u001b[1;33m.\u001b[0m\u001b[0m_cond\u001b[0m\u001b[1;33m.\u001b[0m\u001b[0mwait\u001b[0m\u001b[1;33m(\u001b[0m\u001b[0mtimeout\u001b[0m\u001b[1;33m)\u001b[0m\u001b[1;33m\u001b[0m\u001b[1;33m\u001b[0m\u001b[0m\n\u001b[0m\u001b[0;32m    553\u001b[0m             \u001b[1;32mreturn\u001b[0m \u001b[0msignaled\u001b[0m\u001b[1;33m\u001b[0m\u001b[1;33m\u001b[0m\u001b[0m\n\u001b[0;32m    554\u001b[0m \u001b[1;33m\u001b[0m\u001b[0m\n",
      "\u001b[1;32m~\\anaconda3\\lib\\threading.py\u001b[0m in \u001b[0;36mwait\u001b[1;34m(self, timeout)\u001b[0m\n\u001b[0;32m    298\u001b[0m             \u001b[1;32melse\u001b[0m\u001b[1;33m:\u001b[0m\u001b[1;33m\u001b[0m\u001b[1;33m\u001b[0m\u001b[0m\n\u001b[0;32m    299\u001b[0m                 \u001b[1;32mif\u001b[0m \u001b[0mtimeout\u001b[0m \u001b[1;33m>\u001b[0m \u001b[1;36m0\u001b[0m\u001b[1;33m:\u001b[0m\u001b[1;33m\u001b[0m\u001b[1;33m\u001b[0m\u001b[0m\n\u001b[1;32m--> 300\u001b[1;33m                     \u001b[0mgotit\u001b[0m \u001b[1;33m=\u001b[0m \u001b[0mwaiter\u001b[0m\u001b[1;33m.\u001b[0m\u001b[0macquire\u001b[0m\u001b[1;33m(\u001b[0m\u001b[1;32mTrue\u001b[0m\u001b[1;33m,\u001b[0m \u001b[0mtimeout\u001b[0m\u001b[1;33m)\u001b[0m\u001b[1;33m\u001b[0m\u001b[1;33m\u001b[0m\u001b[0m\n\u001b[0m\u001b[0;32m    301\u001b[0m                 \u001b[1;32melse\u001b[0m\u001b[1;33m:\u001b[0m\u001b[1;33m\u001b[0m\u001b[1;33m\u001b[0m\u001b[0m\n\u001b[0;32m    302\u001b[0m                     \u001b[0mgotit\u001b[0m \u001b[1;33m=\u001b[0m \u001b[0mwaiter\u001b[0m\u001b[1;33m.\u001b[0m\u001b[0macquire\u001b[0m\u001b[1;33m(\u001b[0m\u001b[1;32mFalse\u001b[0m\u001b[1;33m)\u001b[0m\u001b[1;33m\u001b[0m\u001b[1;33m\u001b[0m\u001b[0m\n",
      "\u001b[1;31mKeyboardInterrupt\u001b[0m: "
     ]
    },
    {
     "name": "stderr",
     "output_type": "stream",
     "text": [
      "Exception ignored in: 'gurobipy.logcallbackstub'\n",
      "Traceback (most recent call last):\n",
      "  File \"C:\\Users\\yoons\\anaconda3\\lib\\site-packages\\ipykernel\\iostream.py\", line 352, in flush\n",
      "    if not evt.wait(self.flush_timeout):\n",
      "  File \"C:\\Users\\yoons\\anaconda3\\lib\\threading.py\", line 552, in wait\n",
      "    signaled = self._cond.wait(timeout)\n",
      "  File \"C:\\Users\\yoons\\anaconda3\\lib\\threading.py\", line 300, in wait\n",
      "    gotit = waiter.acquire(True, timeout)\n",
      "KeyboardInterrupt: \n"
     ]
    },
    {
     "name": "stdout",
     "output_type": "stream",
     "text": [
      "     0     0    0.53097    0  647  122.82692    0.53097   100%     -  659s\n"
     ]
    }
   ],
   "source": [
    "# 유니폼 목적식, 개수 제약조건, 시간제약\n",
    "solution = []\n",
    "timeLimit = 10800\n",
    "\n",
    "for k in [75]:\n",
    "    for penalty in range(1850,1700,-1):\n",
    "        bright = k*101*101/100000*10**5\n",
    "        \n",
    "#         penalty = j\n",
    "        start = time.time()\n",
    "        m = gp.Model('led_location')\n",
    "        m.setParam('TimeLimit', timeLimit)\n",
    "\n",
    "        select = m.addVars(num_led, vtype=GRB.BINARY, name='Select')\n",
    "\n",
    "        a = m.addVars(2, vtype=GRB.CONTINUOUS)\n",
    "\n",
    "        m.setObjective(a[0]-a[1], GRB.MINIMIZE) # 목적식 산포 최소화\n",
    "\n",
    "        m.addConstr(select.sum()<=penalty) # 제약식1 LED 개수 제한 (for문 통해 점점 줄이며 pareto 경계 구함.)\n",
    "        m.addConstrs(gp.quicksum(select[i]*data3[i][j] for i in range(num_led))<=a[0] for j in range(10201)) # a[0]가 최대 밝기를 나타나게 해주는 제약식\n",
    "          \n",
    "        m.addConstrs(a[1]<=gp.quicksum(select[i]*data3[i][j]for i in range(num_led)) for j in range(10201)) # a[1]이 최소 밝기가 되게 하는 제약식\n",
    "        m.addConstr(gp.quicksum(select[i]*data3[i][j] for i in range(num_led) for j in range(10201))>=bright) # 전체 픽셀 밝기 합이 75 이상이 되게하는 제약식\n",
    "    \n",
    "        m.update()\n",
    "        m.optimize()\n",
    "        print(time.time()-start)\n",
    "        solution.append(select)\n",
    "        temp=[]\n",
    "        for i in range(len(select)):\n",
    "            temp.append(select[i].x)\n",
    "        with open(str(penalty)+'_solution.pickle', 'wb') as f: # 도출된 해를 led개수_solution.pickle이라는 파일명으로 저장.(led 개수마다 하나씩 해가 나옴.)\n",
    "            pickle.dump(temp, f)"
   ]
  },
  {
   "cell_type": "code",
   "execution_count": null,
   "metadata": {},
   "outputs": [],
   "source": []
  }
 ],
 "metadata": {
  "kernelspec": {
   "display_name": "Python 3",
   "language": "python",
   "name": "python3"
  },
  "language_info": {
   "codemirror_mode": {
    "name": "ipython",
    "version": 3
   },
   "file_extension": ".py",
   "mimetype": "text/x-python",
   "name": "python",
   "nbconvert_exporter": "python",
   "pygments_lexer": "ipython3",
   "version": "3.7.6"
  }
 },
 "nbformat": 4,
 "nbformat_minor": 2
}
