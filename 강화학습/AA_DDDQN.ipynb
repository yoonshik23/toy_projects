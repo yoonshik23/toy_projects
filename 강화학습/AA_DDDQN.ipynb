{
 "cells": [
  {
   "cell_type": "code",
   "execution_count": 1,
   "metadata": {},
   "outputs": [],
   "source": [
    "import pandas as pd\n",
    "import numpy as np\n",
    "import glob\n",
    "import random\n",
    "import pickle\n",
    "import copy"
   ]
  },
  {
   "cell_type": "code",
   "execution_count": 2,
   "metadata": {},
   "outputs": [],
   "source": [
    "gamma = 0.99\n",
    "n_memory = 1000000\n",
    "explor = False\n",
    "fit_count = 0\n",
    "best_advanced_step=0\n",
    "bestofbest_step = 0\n",
    "exploration_rate =0"
   ]
  },
  {
   "cell_type": "code",
   "execution_count": 3,
   "metadata": {
    "scrolled": true
   },
   "outputs": [],
   "source": [
    "# temp = r'input_data\\*csv'\n",
    "# csv_dir = glob.glob(temp)\n",
    "# for i in range(len(csv_dir)):\n",
    "#     print(i, csv_dir[i])"
   ]
  },
  {
   "cell_type": "code",
   "execution_count": 4,
   "metadata": {},
   "outputs": [],
   "source": [
    "# df_list = []\n",
    "# for i in range(len(csv_dir)):\n",
    "#     data = pd.read_csv(csv_dir[i], header = None)\n",
    "#     tmp = data.iloc[:,0].unique()\n",
    "#     for j in range(len(tmp)):\n",
    "#         temp = data[data[0]==tmp[j]].set_index(1)\n",
    "#         temp.columns = ['prod_name', 'z_axis', 'CentSFR 0.7']\n",
    "#         df_list.append(temp)"
   ]
  },
  {
   "cell_type": "code",
   "execution_count": 5,
   "metadata": {},
   "outputs": [],
   "source": [
    "# with open('df_list.pickle', 'wb') as f:\n",
    "#     pickle.dump(df_list, f)\n",
    "with open('df_list.pickle', 'rb') as f:\n",
    "    df_list = pickle.load(f)"
   ]
  },
  {
   "cell_type": "code",
   "execution_count": 6,
   "metadata": {},
   "outputs": [
    {
     "data": {
      "text/html": [
       "<div>\n",
       "<style scoped>\n",
       "    .dataframe tbody tr th:only-of-type {\n",
       "        vertical-align: middle;\n",
       "    }\n",
       "\n",
       "    .dataframe tbody tr th {\n",
       "        vertical-align: top;\n",
       "    }\n",
       "\n",
       "    .dataframe thead th {\n",
       "        text-align: right;\n",
       "    }\n",
       "</style>\n",
       "<table border=\"1\" class=\"dataframe\">\n",
       "  <thead>\n",
       "    <tr style=\"text-align: right;\">\n",
       "      <th></th>\n",
       "      <th>prod_name</th>\n",
       "      <th>z_axis</th>\n",
       "      <th>CentSFR 0.7</th>\n",
       "    </tr>\n",
       "    <tr>\n",
       "      <th>1</th>\n",
       "      <th></th>\n",
       "      <th></th>\n",
       "      <th></th>\n",
       "    </tr>\n",
       "  </thead>\n",
       "  <tbody>\n",
       "    <tr>\n",
       "      <th>0</th>\n",
       "      <td>20223M133784</td>\n",
       "      <td>-10.350</td>\n",
       "      <td>0.105402</td>\n",
       "    </tr>\n",
       "    <tr>\n",
       "      <th>1</th>\n",
       "      <td>20223M133784</td>\n",
       "      <td>-10.375</td>\n",
       "      <td>0.112794</td>\n",
       "    </tr>\n",
       "    <tr>\n",
       "      <th>2</th>\n",
       "      <td>20223M133784</td>\n",
       "      <td>-10.400</td>\n",
       "      <td>0.238004</td>\n",
       "    </tr>\n",
       "    <tr>\n",
       "      <th>3</th>\n",
       "      <td>20223M133784</td>\n",
       "      <td>-10.410</td>\n",
       "      <td>0.374730</td>\n",
       "    </tr>\n",
       "    <tr>\n",
       "      <th>4</th>\n",
       "      <td>20223M133784</td>\n",
       "      <td>-10.420</td>\n",
       "      <td>0.517354</td>\n",
       "    </tr>\n",
       "    <tr>\n",
       "      <th>5</th>\n",
       "      <td>20223M133784</td>\n",
       "      <td>-10.430</td>\n",
       "      <td>0.654284</td>\n",
       "    </tr>\n",
       "    <tr>\n",
       "      <th>6</th>\n",
       "      <td>20223M133784</td>\n",
       "      <td>-10.440</td>\n",
       "      <td>0.766055</td>\n",
       "    </tr>\n",
       "    <tr>\n",
       "      <th>7</th>\n",
       "      <td>20223M133784</td>\n",
       "      <td>-10.450</td>\n",
       "      <td>0.833290</td>\n",
       "    </tr>\n",
       "    <tr>\n",
       "      <th>8</th>\n",
       "      <td>20223M133784</td>\n",
       "      <td>-10.460</td>\n",
       "      <td>0.845576</td>\n",
       "    </tr>\n",
       "    <tr>\n",
       "      <th>9</th>\n",
       "      <td>20223M133784</td>\n",
       "      <td>-10.470</td>\n",
       "      <td>0.808629</td>\n",
       "    </tr>\n",
       "    <tr>\n",
       "      <th>10</th>\n",
       "      <td>20223M133784</td>\n",
       "      <td>-10.480</td>\n",
       "      <td>0.716949</td>\n",
       "    </tr>\n",
       "  </tbody>\n",
       "</table>\n",
       "</div>"
      ],
      "text/plain": [
       "        prod_name  z_axis  CentSFR 0.7\n",
       "1                                     \n",
       "0    20223M133784 -10.350     0.105402\n",
       "1    20223M133784 -10.375     0.112794\n",
       "2    20223M133784 -10.400     0.238004\n",
       "3    20223M133784 -10.410     0.374730\n",
       "4    20223M133784 -10.420     0.517354\n",
       "5    20223M133784 -10.430     0.654284\n",
       "6    20223M133784 -10.440     0.766055\n",
       "7    20223M133784 -10.450     0.833290\n",
       "8    20223M133784 -10.460     0.845576\n",
       "9    20223M133784 -10.470     0.808629\n",
       "10   20223M133784 -10.480     0.716949"
      ]
     },
     "execution_count": 6,
     "metadata": {},
     "output_type": "execute_result"
    }
   ],
   "source": [
    "df_list[50000]"
   ]
  },
  {
   "cell_type": "code",
   "execution_count": null,
   "metadata": {},
   "outputs": [
    {
     "data": {
      "text/plain": [
       "52962"
      ]
     },
     "execution_count": 7,
     "metadata": {},
     "output_type": "execute_result"
    }
   ],
   "source": [
    "# 각각 한 개가 simulation environment 임.\n",
    "len(df_list)"
   ]
  },
  {
   "cell_type": "code",
   "execution_count": 8,
   "metadata": {},
   "outputs": [],
   "source": [
    "# 70퍼센트만 학습에 사용\n",
    "train_test_ratio = 0.7\n",
    "idx = np.arange(0,len(df_list))\n",
    "random.shuffle(idx)\n",
    "train_df_list=[]\n",
    "test_df_list=[]\n",
    "for i in range(int(len(df_list)*train_test_ratio)):\n",
    "    train_df_list.append(df_list[idx[i]])\n",
    "for i in range(int(len(df_list)*train_test_ratio),len(df_list)):\n",
    "    test_df_list.append(df_list[idx[i]])"
   ]
  },
  {
   "cell_type": "code",
   "execution_count": 9,
   "metadata": {},
   "outputs": [],
   "source": [
    "# current state 에 따라 어떤 행동을 할 지 결정 (exploration_rate 전역변수)\n",
    "def decide(model, cur_state):\n",
    "    global explor\n",
    "    if random.random()>exploration_rate:\n",
    "        tmp = model.predict_on_batch(cur_state)\n",
    "        action = tmp.argmax()+1\n",
    "        explor = False\n",
    "    else:\n",
    "        action = random.randint(1,5)\n",
    "        explor = True\n",
    "    return action"
   ]
  },
  {
   "cell_type": "code",
   "execution_count": 10,
   "metadata": {},
   "outputs": [],
   "source": [
    "# exploration 을 하지 않는 경우 (exploration_rate 이 음수인 경우와 동일.)\n",
    "def best_decide(model, cur_state):\n",
    "\n",
    "    tmp = model.predict_on_batch(cur_state)\n",
    "    action = tmp.argmax()+1\n",
    "    explor = False\n",
    "\n",
    "    return action"
   ]
  },
  {
   "cell_type": "code",
   "execution_count": 11,
   "metadata": {},
   "outputs": [],
   "source": [
    "# df_list 에서 환경 하나를 랜덤으로 추출해 세팅함.\n",
    "# step : 실제 best step.\n",
    "# value : 실제 best step에서의 해상도\n",
    "#  tmp : 환경\n",
    "def random_load(df_list):\n",
    "    i=1\n",
    "    while i!=0:\n",
    "        tmp = df_list[random.randint(0,len(df_list)-1)]\n",
    "        i = tmp.index[0]\n",
    "    \n",
    "#     시작지점이 최고해상도인 경우가 있음.\n",
    "#  이 경우 실제로 z axis 를 당겨서 다시 측정함.\n",
    "    if tmp['CentSFR 0.7'].argmax() == 0:\n",
    "        step = tmp.iloc[2:,2].argmax()+2\n",
    "    else:\n",
    "        step = tmp['CentSFR 0.7'].argmax()\n",
    "    \n",
    "    value = tmp.iloc[step,:]['CentSFR 0.7']\n",
    "    return [tmp, step, value]"
   ]
  },
  {
   "cell_type": "code",
   "execution_count": 12,
   "metadata": {},
   "outputs": [],
   "source": [
    "# df_list 에서 k index를 주어 환경을 특정해서 뽑는 경우\n",
    "def select_load(df_list,k):\n",
    "    i=1\n",
    "    while i!=0:\n",
    "        tmp = df_list[k]\n",
    "        i = tmp.index[0]\n",
    "    if tmp['CentSFR 0.7'].argmax() == 0:\n",
    "        step = tmp.iloc[2:,2].argmax()+2\n",
    "    else:\n",
    "        step = tmp['CentSFR 0.7'].argmax()\n",
    "    \n",
    "    value = tmp.iloc[step,:]['CentSFR 0.7']\n",
    "    return [tmp, step, value]"
   ]
  },
  {
   "cell_type": "code",
   "execution_count": 13,
   "metadata": {},
   "outputs": [],
   "source": [
    "# 처음 시작할 때 cur_env 생성\n",
    "# cur_env : [현재 step, 현재 해상도, 실제 best step]\n",
    "def init_env(data):\n",
    "    return [0, data[0].iloc[0,2], data[1]]"
   ]
  },
  {
   "cell_type": "code",
   "execution_count": null,
   "metadata": {},
   "outputs": [],
   "source": [
    "# 액션을 취했을 때 환경을 변화시키고, reward 를 관찰해 memory_D에 적재.\n",
    "\n",
    "# cur_state: [[현재 z 거리, 바로 전 z 거리, 현재 SFR, 바로 전 SFR, 기울기]]\n",
    "def update_env(data,cur_env,action,memory_D, cur_state):\n",
    "    global terminal, fit_count, succeeded, failed\n",
    "    tmp=[]\n",
    "    tmp.append(cur_state.copy())\n",
    "    tmp.append(action)\n",
    "    \n",
    "#     액션 진행\n",
    "    cur_env[0] += action # 현재 스탭\n",
    "    if cur_env[0] >= len(cur_data[0].index):\n",
    "        cur_env[1] = data[0].iloc[len(cur_data[0].index)-1,2].copy()\n",
    "    else:\n",
    "        cur_env[1] = data[0].iloc[cur_env[0],2].copy() # 현재 SFR값\n",
    "        \n",
    "#   current state 관찰\n",
    "    cur_state[0][1] = cur_state[0][0].copy() # 바로 전 z 거리\n",
    "    cur_state[0][3] = cur_state[0][2].copy() # 바로 전 SFR 값\n",
    "    if cur_env[0] >= len(cur_data[0].index):\n",
    "        cur_state[0][0] = data[0].iloc[len(cur_data[0].index)-1,1].copy()\n",
    "    else:\n",
    "        cur_state[0][0] = data[0].iloc[cur_env[0],1].copy() # 현재 z 거리\n",
    "    cur_state[0][2] = cur_env[1].copy() # 현재 SFR 값\n",
    "    cur_state[0][4] = (cur_state[0][2]-cur_state[0][3])/(cur_state[0][1] - cur_state[0][0]) # 기울기 (reward)\n",
    "    \n",
    "#    reward 관찰\n",
    "    reward = 0\n",
    "    if cur_env[0] > cur_env[2]: # 현재 step 이 실제 best step 을 넘었으면 실패로 reward -1 주고 에피소드 종료\n",
    "        terminal = True\n",
    "        reward = -1\n",
    "        if explor ==False:\n",
    "            failed += 1  \n",
    "    if cur_env[0] == cur_env[2]: # 현재 step 이 실제 best step 이면 reward 1 주고 에피소드 종료\n",
    "        terminal = True\n",
    "        reward = 1\n",
    "        succeeded += 1\n",
    "    if cur_env[0] < cur_env[2]: # 현재 step 이 실제 best step 이전이면 (기울기만큼?) reward 부여\n",
    "        reward = cur_state[0][2]-cur_state[0][3]\n",
    "        \n",
    "#   tmp : 메모리_D 에 적재할 transition set. (cur_state, action, reward, after_state, 터미널여부) 세트로 만들어 FIFO 로 적재.\n",
    "    tmp.append(reward)\n",
    "    tmp.append(cur_state.copy())\n",
    "    tmp.append(terminal)\n",
    "    memory_D.append(tmp)\n",
    "    if len(memory_D)>n_memory:\n",
    "        memory_D.pop(0)\n",
    "    fit_count += 1\n",
    "    return cur_env, cur_state, reward, memory_D"
   ]
  },
  {
   "cell_type": "code",
   "execution_count": 15,
   "metadata": {},
   "outputs": [],
   "source": [
    "def model_fit(model, model2, memory_D):\n",
    "    if len(memory_D)>100:\n",
    "        train_x=[]\n",
    "        delt = []\n",
    "        train_y=[]\n",
    "#         30회 for 문돌며 memory_D에서 랜덤 추출해 학습 미니배치 구성.\n",
    "        for i in range(30):\n",
    "            temp = memory_D[random.randint(0,len(memory_D)-1)]\n",
    "            tmp = np.zeros(5)\n",
    "            tmp[temp[1]-1]=1.0\n",
    "\n",
    "            if temp[4] == False:\n",
    "                fu_reward = gamma*model2.predict_on_batch(temp[3]).max()\n",
    "                delt.append(temp[2]+fu_reward)\n",
    "            elif temp[4] == True:\n",
    "\n",
    "                delt.append(temp[2])\n",
    "            train_x.append(copy.deepcopy(temp[0][0]))\n",
    "            train_y.append(copy.deepcopy(tmp))\n",
    "        train_y = np.asarray(train_y)\n",
    "        train_x = [np.asarray(train_x),np.asarray(delt), train_y]\n",
    "        \n",
    "#         minibatch 에 대해 1step 학습\n",
    "        train_model.train_on_batch(train_x, train_y) # fit 이 아닌 train_on_batch 사용. 매우 적은 양을 학습하는 것이기 때문에 병렬처리 없애 준비시간을 줄여줌.\n",
    "\n",
    "    return model"
   ]
  },
  {
   "cell_type": "code",
   "execution_count": 16,
   "metadata": {},
   "outputs": [],
   "source": [
    "# def model_fit(model, model2, memory_D):\n",
    "#     if len(memory_D)>100:\n",
    "#         train_x=[]\n",
    "#         delt = []\n",
    "#         train_y=[]\n",
    "#         for i in range(30):\n",
    "#             temp = memory_D[random.randint(0,len(memory_D)-1)]\n",
    "#             tmp = model.predict(temp[0])\n",
    "#             if temp[4] == False:\n",
    "#                 fu_reward = gamma*model2.predict(temp[3]).max()\n",
    "#                 tmp[0][temp[1]-1] = temp[2]+fu_reward\n",
    "#             elif temp[4] == True:\n",
    "\n",
    "#                 tmp[0][temp[1]-1] = temp[2]\n",
    "#             train_x.append(copy.deepcopy(temp[0][0]))\n",
    "#             train_y.append(copy.deepcopy(tmp[0]))\n",
    "#         train_x = np.asarray(train_x)\n",
    "#         train_y = np.asarray(train_y)\n",
    "        \n",
    "#         model.fit(train_x, train_y,verbose=0)\n",
    "\n",
    "#     return model"
   ]
  },
  {
   "cell_type": "code",
   "execution_count": 17,
   "metadata": {
    "scrolled": true
   },
   "outputs": [
    {
     "name": "stderr",
     "output_type": "stream",
     "text": [
      "2023-08-08 11:59:25.890022: I tensorflow/stream_executor/platform/default/dso_loader.cc:53] Successfully opened dynamic library libcudart.so.11.0\n",
      "2023-08-08 11:59:26.968942: I tensorflow/stream_executor/platform/default/dso_loader.cc:53] Successfully opened dynamic library libcuda.so.1\n",
      "2023-08-08 11:59:27.027990: I tensorflow/core/common_runtime/gpu/gpu_device.cc:1733] Found device 0 with properties: \n",
      "pciBusID: 0000:3b:00.0 name: NVIDIA GeForce RTX 2080 Ti computeCapability: 7.5\n",
      "coreClock: 1.545GHz coreCount: 68 deviceMemorySize: 10.76GiB deviceMemoryBandwidth: 573.69GiB/s\n",
      "2023-08-08 11:59:27.028617: I tensorflow/core/common_runtime/gpu/gpu_device.cc:1733] Found device 1 with properties: \n",
      "pciBusID: 0000:86:00.0 name: NVIDIA GeForce RTX 2080 Ti computeCapability: 7.5\n",
      "coreClock: 1.545GHz coreCount: 68 deviceMemorySize: 10.76GiB deviceMemoryBandwidth: 573.69GiB/s\n",
      "2023-08-08 11:59:27.028646: I tensorflow/stream_executor/platform/default/dso_loader.cc:53] Successfully opened dynamic library libcudart.so.11.0\n",
      "2023-08-08 11:59:27.033024: I tensorflow/stream_executor/platform/default/dso_loader.cc:53] Successfully opened dynamic library libcublas.so.11\n",
      "2023-08-08 11:59:27.033101: I tensorflow/stream_executor/platform/default/dso_loader.cc:53] Successfully opened dynamic library libcublasLt.so.11\n",
      "2023-08-08 11:59:27.034338: I tensorflow/stream_executor/platform/default/dso_loader.cc:53] Successfully opened dynamic library libcufft.so.10\n",
      "2023-08-08 11:59:27.034647: I tensorflow/stream_executor/platform/default/dso_loader.cc:53] Successfully opened dynamic library libcurand.so.10\n",
      "2023-08-08 11:59:27.035947: I tensorflow/stream_executor/platform/default/dso_loader.cc:53] Successfully opened dynamic library libcusolver.so.11\n",
      "2023-08-08 11:59:27.036962: I tensorflow/stream_executor/platform/default/dso_loader.cc:53] Successfully opened dynamic library libcusparse.so.11\n",
      "2023-08-08 11:59:27.037119: I tensorflow/stream_executor/platform/default/dso_loader.cc:53] Successfully opened dynamic library libcudnn.so.8\n",
      "2023-08-08 11:59:27.039614: I tensorflow/core/common_runtime/gpu/gpu_device.cc:1871] Adding visible gpu devices: 0, 1\n",
      "2023-08-08 11:59:27.040232: I tensorflow/core/platform/cpu_feature_guard.cc:142] This TensorFlow binary is optimized with oneAPI Deep Neural Network Library (oneDNN) to use the following CPU instructions in performance-critical operations:  AVX2 AVX512F FMA\n",
      "To enable them in other operations, rebuild TensorFlow with the appropriate compiler flags.\n",
      "2023-08-08 11:59:27.349567: I tensorflow/core/common_runtime/gpu/gpu_device.cc:1733] Found device 0 with properties: \n",
      "pciBusID: 0000:3b:00.0 name: NVIDIA GeForce RTX 2080 Ti computeCapability: 7.5\n",
      "coreClock: 1.545GHz coreCount: 68 deviceMemorySize: 10.76GiB deviceMemoryBandwidth: 573.69GiB/s\n",
      "2023-08-08 11:59:27.350428: I tensorflow/core/common_runtime/gpu/gpu_device.cc:1733] Found device 1 with properties: \n",
      "pciBusID: 0000:86:00.0 name: NVIDIA GeForce RTX 2080 Ti computeCapability: 7.5\n",
      "coreClock: 1.545GHz coreCount: 68 deviceMemorySize: 10.76GiB deviceMemoryBandwidth: 573.69GiB/s\n",
      "2023-08-08 11:59:27.353266: I tensorflow/core/common_runtime/gpu/gpu_device.cc:1871] Adding visible gpu devices: 0, 1\n",
      "2023-08-08 11:59:27.353361: I tensorflow/stream_executor/platform/default/dso_loader.cc:53] Successfully opened dynamic library libcudart.so.11.0\n",
      "2023-08-08 11:59:28.495721: I tensorflow/core/common_runtime/gpu/gpu_device.cc:1258] Device interconnect StreamExecutor with strength 1 edge matrix:\n",
      "2023-08-08 11:59:28.495749: I tensorflow/core/common_runtime/gpu/gpu_device.cc:1264]      0 1 \n",
      "2023-08-08 11:59:28.495756: I tensorflow/core/common_runtime/gpu/gpu_device.cc:1277] 0:   N N \n",
      "2023-08-08 11:59:28.495760: I tensorflow/core/common_runtime/gpu/gpu_device.cc:1277] 1:   N N \n",
      "2023-08-08 11:59:28.499125: I tensorflow/core/common_runtime/gpu/gpu_device.cc:1418] Created TensorFlow device (/job:localhost/replica:0/task:0/device:GPU:0 with 9591 MB memory) -> physical GPU (device: 0, name: NVIDIA GeForce RTX 2080 Ti, pci bus id: 0000:3b:00.0, compute capability: 7.5)\n",
      "2023-08-08 11:59:28.500355: I tensorflow/core/common_runtime/gpu/gpu_device.cc:1418] Created TensorFlow device (/job:localhost/replica:0/task:0/device:GPU:1 with 9655 MB memory) -> physical GPU (device: 1, name: NVIDIA GeForce RTX 2080 Ti, pci bus id: 0000:86:00.0, compute capability: 7.5)\n"
     ]
    },
    {
     "name": "stdout",
     "output_type": "stream",
     "text": [
      "Model: \"model_1\"\n",
      "__________________________________________________________________________________________________\n",
      "Layer (type)                    Output Shape         Param #     Connected to                     \n",
      "==================================================================================================\n",
      "input_3 (InputLayer)            [(None, 5)]          0                                            \n",
      "__________________________________________________________________________________________________\n",
      "dense (Dense)                   (None, 500)          3000        input_3[0][0]                    \n",
      "__________________________________________________________________________________________________\n",
      "dense_1 (Dense)                 (None, 200)          100200      dense[0][0]                      \n",
      "__________________________________________________________________________________________________\n",
      "dense_2 (Dense)                 (None, 100)          20100       dense_1[0][0]                    \n",
      "__________________________________________________________________________________________________\n",
      "dense_3 (Dense)                 (None, 5)            505         dense_2[0][0]                    \n",
      "__________________________________________________________________________________________________\n",
      "dense_4 (Dense)                 (None, 1)            101         dense_2[0][0]                    \n",
      "__________________________________________________________________________________________________\n",
      "input_1 (InputLayer)            [(None, 1)]          0                                            \n",
      "__________________________________________________________________________________________________\n",
      "input_2 (InputLayer)            [(None, 5)]          0                                            \n",
      "__________________________________________________________________________________________________\n",
      "lambda (Lambda)                 (None, 5)            0           dense_3[0][0]                    \n",
      "                                                                 dense_4[0][0]                    \n",
      "__________________________________________________________________________________________________\n",
      "tf.math.subtract (TFOpLambda)   (None, 5)            0           lambda[0][0]                     \n",
      "                                                                 input_1[0][0]                    \n",
      "__________________________________________________________________________________________________\n",
      "tf.math.multiply (TFOpLambda)   (None, 5)            0           tf.math.subtract[0][0]           \n",
      "                                                                 input_2[0][0]                    \n",
      "__________________________________________________________________________________________________\n",
      "tf.math.square (TFOpLambda)     (None, 5)            0           tf.math.multiply[0][0]           \n",
      "__________________________________________________________________________________________________\n",
      "tf.math.reduce_sum (TFOpLambda) (None,)              0           tf.math.square[0][0]             \n",
      "__________________________________________________________________________________________________\n",
      "tf.math.reduce_mean (TFOpLambda ()                   0           tf.math.reduce_sum[0][0]         \n",
      "__________________________________________________________________________________________________\n",
      "add_loss (AddLoss)              ()                   0           tf.math.reduce_mean[0][0]        \n",
      "==================================================================================================\n",
      "Total params: 123,906\n",
      "Trainable params: 123,906\n",
      "Non-trainable params: 0\n",
      "__________________________________________________________________________________________________\n"
     ]
    }
   ],
   "source": [
    "from tensorflow.keras.models import Model\n",
    "from tensorflow.keras import backend as K\n",
    "from tensorflow.keras.layers import Dense, Input, Lambda\n",
    "from tensorflow.keras.optimizers import Adam\n",
    "import tensorflow as tf\n",
    "def make_model():\n",
    "    def custom_loss(y_true, y_pred, delta):\n",
    "        out =  tf.math.square(tf.math.multiply(tf.math.subtract(y_pred, delta), y_true))\n",
    "        return tf.math.reduce_mean(tf.math.reduce_sum(out, axis=1))\n",
    "    delta = Input(shape=(1,),dtype= np.float32)\n",
    "    y_true = Input(shape=(5,))\n",
    "    x1 = Input(shape=(5,),dtype= np.float32)\n",
    "    x = Dense(500,activation='relu')(x1)\n",
    "    x = Dense(200,activation='relu')(x)\n",
    "    x = Dense(100,activation='relu')(x)\n",
    "    #     fc1 = Dense(50)(x)\n",
    "    advantage = Dense(5,activation='linear')(x)\n",
    "    #     fc2 = Dense(50)(x)\n",
    "    value = Dense(1)(x)\n",
    "    policy = Lambda(lambda x: tf.math.add(tf.math.subtract(x[0],tf.math.reduce_mean(x[0], 1, keepdims=True)),x[1]))([advantage, value])\n",
    "    model = Model([x1],[policy])\n",
    "    model.compile(optimizer = 'rmsprop', loss='mse')\n",
    "    train_model = Model([x1, delta, y_true],[policy])\n",
    "    train_model.add_loss(custom_loss(y_true, policy, delta))\n",
    "    train_model.compile(optimizer = Adam(learning_rate=0.00005), loss=None)\n",
    "    return model, train_model\n",
    "model, train_model = make_model()\n",
    "model2, train_model2 = make_model()\n",
    "\n",
    "train_model.summary()"
   ]
  },
  {
   "cell_type": "code",
   "execution_count": 18,
   "metadata": {},
   "outputs": [],
   "source": [
    "train_x = [np.array([[1,1,1,1,1],[1,1,1,1,1]]),np.array([[1],[1]])]\n",
    "train_y = [np.array([[0,0,0,1.0,0],[0,1.0,0,0,0]])]"
   ]
  },
  {
   "cell_type": "code",
   "execution_count": 19,
   "metadata": {
    "scrolled": true
   },
   "outputs": [
    {
     "name": "stderr",
     "output_type": "stream",
     "text": [
      "2023-08-08 11:59:28.956083: I tensorflow/compiler/mlir/mlir_graph_optimization_pass.cc:176] None of the MLIR Optimization Passes are enabled (registered 2)\n",
      "2023-08-08 11:59:28.974372: I tensorflow/core/platform/profile_utils/cpu_utils.cc:114] CPU Frequency: 2100000000 Hz\n",
      "2023-08-08 11:59:29.073824: I tensorflow/stream_executor/platform/default/dso_loader.cc:53] Successfully opened dynamic library libcublas.so.11\n",
      "2023-08-08 11:59:29.722734: I tensorflow/stream_executor/platform/default/dso_loader.cc:53] Successfully opened dynamic library libcublasLt.so.11\n"
     ]
    },
    {
     "data": {
      "text/plain": [
       "array([[ 0.00288259,  0.07154439, -0.09598687,  0.07894759,  0.11638533],\n",
       "       [ 0.00288259,  0.07154439, -0.09598687,  0.07894759,  0.11638533]],\n",
       "      dtype=float32)"
      ]
     },
     "execution_count": 19,
     "metadata": {},
     "output_type": "execute_result"
    }
   ],
   "source": [
    "train_x = [np.array([[1,1,1,1,1],[1,1,1,1,1]]),np.array([[1],[1]])]\n",
    "train_y = [np.array([[0,0,0,1,0],[0,1,0,0,0]])]\n",
    "# train_model.fit(train_x,train_y,verbose=1)\n",
    "model.predict([np.array([[1,1,1,1,1],[1,1,1,1,1]])])"
   ]
  },
  {
   "cell_type": "code",
   "execution_count": null,
   "metadata": {
    "scrolled": true
   },
   "outputs": [
    {
     "name": "stderr",
     "output_type": "stream",
     "text": [
      "2023-08-08 12:01:20.586374: W tensorflow/core/kernels/data/model_dataset_op.cc:205] Optimization loop failed: Cancelled: Operation was cancelled\n"
     ]
    },
    {
     "name": "stdout",
     "output_type": "stream",
     "text": [
      "\n",
      "model2 updated 2436\n",
      "0.0  /  0\n",
      "2437 번 시뮬레이션 결과\n",
      "평균 개선 step 수 :  4.8\n",
      "명령을 따랐는데 실패한 횟수 :  179\n",
      "평균 Reward :  0.33\n",
      "exploration rate :  0.049500050000000004\n",
      "best model saved\n",
      "\n",
      "model2 updated 5009\n",
      "0.01  /  0.0\n",
      "2573 번 시뮬레이션 결과\n",
      "평균 개선 step 수 :  4.84\n",
      "명령을 따랐는데 실패한 횟수 :  36\n",
      "평균 Reward :  0.39\n",
      "exploration rate :  0.0490002\n",
      "best model saved\n"
     ]
    },
    {
     "name": "stderr",
     "output_type": "stream",
     "text": [
      "2023-08-08 12:09:51.464598: W tensorflow/core/kernels/data/model_dataset_op.cc:205] Optimization loop failed: Cancelled: Operation was cancelled\n"
     ]
    },
    {
     "name": "stdout",
     "output_type": "stream",
     "text": [
      "\n",
      "model2 updated 7395\n",
      "0.06  /  0.01\n",
      "2386 번 시뮬레이션 결과\n",
      "평균 개선 step 수 :  4.5\n",
      "명령을 따랐는데 실패한 횟수 :  5\n",
      "평균 Reward :  0.38\n",
      "exploration rate :  0.04850005\n",
      "best model saved\n"
     ]
    },
    {
     "name": "stderr",
     "output_type": "stream",
     "text": [
      "2023-08-08 12:12:58.869087: W tensorflow/core/kernels/data/model_dataset_op.cc:205] Optimization loop failed: Cancelled: Operation was cancelled\n"
     ]
    },
    {
     "name": "stdout",
     "output_type": "stream",
     "text": [
      "\n",
      "model2 updated 9734\n",
      "0.06  /  0.06\n",
      "2339 번 시뮬레이션 결과\n",
      "평균 개선 step 수 :  4.42\n",
      "명령을 따랐는데 실패한 횟수 :  5\n",
      "평균 Reward :  0.36\n",
      "exploration rate :  0.048000150000000005\n"
     ]
    },
    {
     "name": "stderr",
     "output_type": "stream",
     "text": [
      "2023-08-08 12:19:47.346498: W tensorflow/core/kernels/data/model_dataset_op.cc:205] Optimization loop failed: Cancelled: Operation was cancelled\n"
     ]
    },
    {
     "name": "stdout",
     "output_type": "stream",
     "text": [
      "\n",
      "model2 updated 12021\n",
      "0.07  /  0.06\n",
      "2287 번 시뮬레이션 결과\n",
      "평균 개선 step 수 :  4.48\n",
      "명령을 따랐는데 실패한 횟수 :  4\n",
      "평균 Reward :  0.35\n",
      "exploration rate :  0.04750005\n",
      "best model saved\n"
     ]
    },
    {
     "name": "stderr",
     "output_type": "stream",
     "text": [
      "2023-08-08 12:24:51.881503: W tensorflow/core/kernels/data/model_dataset_op.cc:205] Optimization loop failed: Cancelled: Operation was cancelled\n"
     ]
    },
    {
     "name": "stdout",
     "output_type": "stream",
     "text": [
      "\n",
      "model2 updated 14229\n",
      "0.09  /  0.07\n",
      "2208 번 시뮬레이션 결과\n",
      "평균 개선 step 수 :  4.05\n",
      "명령을 따랐는데 실패한 횟수 :  3\n",
      "평균 Reward :  0.35\n",
      "exploration rate :  0.047000200000000006\n",
      "best model saved\n",
      "\n",
      "model2 updated 16160\n",
      "0.03  /  0.09\n",
      "1931 번 시뮬레이션 결과\n",
      "평균 개선 step 수 :  3.5\n",
      "명령을 따랐는데 실패한 횟수 :  8\n",
      "평균 Reward :  0.3\n",
      "exploration rate :  0.0465001\n"
     ]
    },
    {
     "name": "stderr",
     "output_type": "stream",
     "text": [
      "2023-08-08 12:32:51.454326: W tensorflow/core/kernels/data/model_dataset_op.cc:205] Optimization loop failed: Cancelled: Operation was cancelled\n",
      "2023-08-08 12:34:51.496867: W tensorflow/core/kernels/data/model_dataset_op.cc:205] Optimization loop failed: Cancelled: Operation was cancelled\n"
     ]
    },
    {
     "name": "stdout",
     "output_type": "stream",
     "text": [
      "\n",
      "model2 updated 18196\n",
      "0.11  /  0.09\n",
      "2036 번 시뮬레이션 결과\n",
      "평균 개선 step 수 :  3.84\n",
      "명령을 따랐는데 실패한 횟수 :  2\n",
      "평균 Reward :  0.32\n",
      "exploration rate :  0.04600005\n",
      "best model saved\n",
      "\n",
      "model2 updated 20243\n",
      "0.32  /  0.11\n",
      "2047 번 시뮬레이션 결과\n",
      "평균 개선 step 수 :  3.81\n",
      "명령을 따랐는데 실패한 횟수 :  0\n",
      "평균 Reward :  0.32\n",
      "exploration rate :  0.045500250000000006\n",
      "best model saved\n",
      "\n",
      "model2 updated 22412\n",
      "0.11  /  0.32\n",
      "2169 번 시뮬레이션 결과\n",
      "평균 개선 step 수 :  4.12\n",
      "명령을 따랐는데 실패한 횟수 :  2\n",
      "평균 Reward :  0.34\n",
      "exploration rate :  0.045000200000000004\n",
      "\n",
      "model2 updated 24481\n",
      "0.33  /  0.32\n",
      "2069 번 시뮬레이션 결과\n",
      "평균 개선 step 수 :  3.91\n",
      "명령을 따랐는데 실패한 횟수 :  0\n",
      "평균 Reward :  0.33\n",
      "exploration rate :  0.0445001\n",
      "best model saved\n"
     ]
    },
    {
     "name": "stderr",
     "output_type": "stream",
     "text": [
      "2023-08-08 12:52:50.914595: W tensorflow/core/kernels/data/model_dataset_op.cc:205] Optimization loop failed: Cancelled: Operation was cancelled\n",
      "2023-08-08 12:53:35.840405: W tensorflow/core/kernels/data/model_dataset_op.cc:205] Optimization loop failed: Cancelled: Operation was cancelled\n"
     ]
    },
    {
     "name": "stdout",
     "output_type": "stream",
     "text": [
      "\n",
      "model2 updated 26628\n",
      "0.34  /  0.33\n",
      "2147 번 시뮬레이션 결과\n",
      "평균 개선 step 수 :  4.09\n",
      "명령을 따랐는데 실패한 횟수 :  0\n",
      "평균 Reward :  0.34\n",
      "exploration rate :  0.044000250000000005\n",
      "best model saved\n",
      "\n",
      "model2 updated 28764\n",
      "0.11  /  0.34\n",
      "2136 번 시뮬레이션 결과\n",
      "평균 개선 step 수 :  4.0\n",
      "명령을 따랐는데 실패한 횟수 :  2\n",
      "평균 Reward :  0.34\n",
      "exploration rate :  0.04350005\n",
      "\n",
      "model2 updated 30879\n",
      "0.17  /  0.34\n",
      "2115 번 시뮬레이션 결과\n",
      "평균 개선 step 수 :  4.06\n",
      "명령을 따랐는데 실패한 횟수 :  1\n",
      "평균 Reward :  0.33\n",
      "exploration rate :  0.043000050000000005\n"
     ]
    },
    {
     "name": "stderr",
     "output_type": "stream",
     "text": [
      "2023-08-08 13:06:51.546206: W tensorflow/core/kernels/data/model_dataset_op.cc:205] Optimization loop failed: Cancelled: Operation was cancelled\n",
      "2023-08-08 13:07:51.412961: W tensorflow/core/kernels/data/model_dataset_op.cc:205] Optimization loop failed: Cancelled: Operation was cancelled\n"
     ]
    },
    {
     "name": "stdout",
     "output_type": "stream",
     "text": [
      "\n",
      "model2 updated 32995\n",
      "0.34  /  0.34\n",
      "2116 번 시뮬레이션 결과\n",
      "평균 개선 step 수 :  4.05\n",
      "명령을 따랐는데 실패한 횟수 :  0\n",
      "평균 Reward :  0.34\n",
      "exploration rate :  0.042500050000000004\n",
      "\n",
      "model2 updated 35101\n",
      "0.34  /  0.34\n",
      "2106 번 시뮬레이션 결과\n",
      "평균 개선 step 수 :  3.94\n",
      "명령을 따랐는데 실패한 횟수 :  0\n",
      "평균 Reward :  0.34\n",
      "exploration rate :  0.04200015\n"
     ]
    },
    {
     "name": "stderr",
     "output_type": "stream",
     "text": [
      "2023-08-08 13:17:51.730740: W tensorflow/core/kernels/data/model_dataset_op.cc:205] Optimization loop failed: Cancelled: Operation was cancelled\n"
     ]
    },
    {
     "name": "stdout",
     "output_type": "stream",
     "text": [
      "\n",
      "model2 updated 36862\n",
      "0.14  /  0.34\n",
      "1761 번 시뮬레이션 결과\n",
      "평균 개선 step 수 :  3.02\n",
      "명령을 따랐는데 실패한 횟수 :  1\n",
      "평균 Reward :  0.28\n",
      "exploration rate :  0.041500100000000005\n"
     ]
    },
    {
     "name": "stderr",
     "output_type": "stream",
     "text": [
      "2023-08-08 13:21:01.966055: W tensorflow/core/kernels/data/model_dataset_op.cc:205] Optimization loop failed: Cancelled: Operation was cancelled\n"
     ]
    },
    {
     "name": "stdout",
     "output_type": "stream",
     "text": [
      "\n",
      "model2 updated 38742\n",
      "0.3  /  0.34\n",
      "1880 번 시뮬레이션 결과\n",
      "평균 개선 step 수 :  3.36\n",
      "명령을 따랐는데 실패한 횟수 :  0\n",
      "평균 Reward :  0.3\n",
      "exploration rate :  0.0410002\n",
      "\n",
      "model2 updated 40584\n",
      "0.15  /  0.34\n",
      "1842 번 시뮬레이션 결과\n",
      "평균 개선 step 수 :  3.34\n",
      "명령을 따랐는데 실패한 횟수 :  1\n",
      "평균 Reward :  0.29\n",
      "exploration rate :  0.04050005\n"
     ]
    },
    {
     "name": "stderr",
     "output_type": "stream",
     "text": [
      "2023-08-08 13:28:02.152945: W tensorflow/core/kernels/data/model_dataset_op.cc:205] Optimization loop failed: Cancelled: Operation was cancelled\n"
     ]
    },
    {
     "name": "stdout",
     "output_type": "stream",
     "text": [
      "\n",
      "model2 updated 42377\n",
      "0.29  /  0.34\n",
      "1793 번 시뮬레이션 결과\n",
      "평균 개선 step 수 :  3.33\n",
      "명령을 따랐는데 실패한 횟수 :  0\n",
      "평균 Reward :  0.29\n",
      "exploration rate :  0.04000015\n"
     ]
    },
    {
     "name": "stderr",
     "output_type": "stream",
     "text": [
      "2023-08-08 13:36:03.162785: W tensorflow/core/kernels/data/model_dataset_op.cc:205] Optimization loop failed: Cancelled: Operation was cancelled\n",
      "2023-08-08 13:36:03.347840: W tensorflow/core/kernels/data/model_dataset_op.cc:205] Optimization loop failed: Cancelled: Operation was cancelled\n",
      "2023-08-08 13:36:21.692551: W tensorflow/core/kernels/data/model_dataset_op.cc:205] Optimization loop failed: Cancelled: Operation was cancelled\n",
      "2023-08-08 13:36:21.704900: W tensorflow/core/kernels/data/model_dataset_op.cc:205] Optimization loop failed: Cancelled: Operation was cancelled\n",
      "2023-08-08 13:36:21.757655: W tensorflow/core/kernels/data/model_dataset_op.cc:205] Optimization loop failed: Cancelled: Operation was cancelled\n",
      "2023-08-08 13:36:21.778578: W tensorflow/core/kernels/data/model_dataset_op.cc:205] Optimization loop failed: Cancelled: Operation was cancelled\n",
      "2023-08-08 13:36:21.799389: W tensorflow/core/kernels/data/model_dataset_op.cc:205] Optimization loop failed: Cancelled: Operation was cancelled\n",
      "2023-08-08 13:36:42.078295: W tensorflow/core/kernels/data/model_dataset_op.cc:205] Optimization loop failed: Cancelled: Operation was cancelled\n",
      "2023-08-08 13:36:42.122185: W tensorflow/core/kernels/data/model_dataset_op.cc:205] Optimization loop failed: Cancelled: Operation was cancelled\n"
     ]
    },
    {
     "name": "stdout",
     "output_type": "stream",
     "text": [
      "\n",
      "model2 updated 44293\n",
      "0.16  /  0.34\n",
      "1916 번 시뮬레이션 결과\n",
      "평균 개선 step 수 :  3.51\n",
      "명령을 따랐는데 실패한 횟수 :  1\n",
      "평균 Reward :  0.31\n",
      "exploration rate :  0.0395002\n"
     ]
    },
    {
     "name": "stderr",
     "output_type": "stream",
     "text": [
      "2023-08-08 13:37:07.454639: W tensorflow/core/kernels/data/model_dataset_op.cc:205] Optimization loop failed: Cancelled: Operation was cancelled\n",
      "2023-08-08 13:37:07.665693: W tensorflow/core/kernels/data/model_dataset_op.cc:205] Optimization loop failed: Cancelled: Operation was cancelled\n"
     ]
    },
    {
     "name": "stdout",
     "output_type": "stream",
     "text": [
      "\n",
      "model2 updated 46242\n",
      "0.15  /  0.34\n",
      "1949 번 시뮬레이션 결과\n",
      "평균 개선 step 수 :  3.67\n",
      "명령을 따랐는데 실패한 횟수 :  1\n",
      "평균 Reward :  0.31\n",
      "exploration rate :  0.03900035\n"
     ]
    }
   ],
   "source": [
    "from tensorflow.keras.models import load_model\n",
    "# main\n",
    "cur_data = random_load(train_df_list)\n",
    "cur_env = init_env(cur_data) # cur_step, cur_SFR, terminal_step\n",
    "# model.fit(np.asarray([np.ones(5)]),np.asarray([np.ones(5)]),verbose=0)\n",
    "\n",
    "# model = load_model('best_model(0).h5')\n",
    "# model.compile(optimizer = 'rmsprop', loss='mse', metrics=['mae'])\n",
    "model2.set_weights(model.get_weights())\n",
    "\n",
    "memory_D = []\n",
    "best_acc_reward = 0\n",
    "acc_step=0\n",
    "acc_reward = 0\n",
    "advanced_step = 0\n",
    "succeeded = 0\n",
    "failed = 0\n",
    "action_count = 0\n",
    "# with open('memory_D(1).pickle', 'rb') as f:\n",
    "#     memory_D = pickle.load(f)\n",
    "for j in range(1000000):\n",
    "#     print(j)\n",
    "\n",
    "#     acc_reward=0\n",
    "    \n",
    "\n",
    "    acc_step += 1\n",
    "    cur_data = random_load(train_df_list)\n",
    "    cur_env = init_env(cur_data)\n",
    "    terminal = False\n",
    "    # cur_state: [[현재 z 거리, 바로 전 z 거리, 현재 SFR, 바로 전 SFR, 기울기]]\n",
    "    cur_state = np.expand_dims(np.asarray([cur_data[0].iloc[0,1], cur_data[0].iloc[0,1], cur_env[1], cur_env[1],0]),axis=0)\n",
    "    reward = 0\n",
    "    cur_step = 0\n",
    "    episode_reward = 0\n",
    "    episode_step = 0\n",
    "    while terminal == False:\n",
    "        action = decide(model, cur_state)\n",
    "        cur_step += action\n",
    "#             print(cur_step, end = ' ')\n",
    "        past_state = cur_state\n",
    "        cur_env, cur_state, reward, memory_D = update_env(cur_data,cur_env,action, memory_D, cur_state)\n",
    "\n",
    "        episode_reward += reward\n",
    "        episode_step += 1\n",
    "        action_count += 1\n",
    "\n",
    "        if fit_count % 6 == 0:\n",
    "            model = model_fit(model, model2, memory_D)\n",
    "        if fit_count % 10000 == 0:\n",
    "            model2.set_weights(model.get_weights())\n",
    "            print('\\nmodel2 updated', j)\n",
    "            print(round(acc_reward/action_count/(failed+1),2),' / ', round(best_acc_reward,2))\n",
    "            print(acc_step,'번 시뮬레이션 결과')\n",
    "\n",
    "            print('평균 개선 step 수 : ', round(advanced_step/acc_step,2))\n",
    "            print('명령을 따랐는데 실패한 횟수 : ', failed)\n",
    "            print('평균 Reward : ', round(acc_reward/action_count,2))\n",
    "            print('exploration rate : ', exploration_rate)\n",
    "\n",
    "            if acc_reward/action_count/(failed+1) >= best_acc_reward:\n",
    "                print('best model saved')\n",
    "                model.save('best_model(2).h5')\n",
    "                best_acc_reward = acc_reward/action_count/(failed+1)\n",
    "            acc_reward = 0\n",
    "            acc_step=0\n",
    "            advanced_step = 0\n",
    "            succeeded = 0\n",
    "            failed = 0\n",
    "            action_count = 0\n",
    "#         print('episode_reward : ', round(episode_reward,2))\n",
    "#         print('스탭 개선 수 : ', cur_step - episode_step,'\\n')\n",
    "    advanced_step += cur_step - episode_step\n",
    "    acc_reward += episode_reward\n",
    "    exploration_rate = 0.05-0.05*fit_count/10**6\n",
    "        "
   ]
  },
  {
   "cell_type": "code",
   "execution_count": null,
   "metadata": {},
   "outputs": [],
   "source": [
    "sdg"
   ]
  },
  {
   "cell_type": "code",
   "execution_count": null,
   "metadata": {},
   "outputs": [],
   "source": []
  },
  {
   "cell_type": "code",
   "execution_count": null,
   "metadata": {},
   "outputs": [],
   "source": []
  },
  {
   "cell_type": "markdown",
   "metadata": {},
   "source": [
    "## 검증"
   ]
  },
  {
   "cell_type": "code",
   "execution_count": null,
   "metadata": {},
   "outputs": [],
   "source": [
    "############## 저장된 모델 불러오는 부분########\n",
    "from tensorflow.keras.models import load_model\n",
    "model = load_model('best_model(2).h5')\n",
    "model.compile(optimizer = 'rmsprop', loss='mse', metrics=['mae'])\n",
    "###############################################\n",
    "\n",
    "advanced_step=0\n",
    "acc_reward=0\n",
    "failed=0\n",
    "acc_origin_step = 0\n",
    "acc_episode_step=0\n",
    "for k in range(len(test_df_list)):\n",
    "    if k%1000==0:\n",
    "        print(k,end=' ')\n",
    "    cur_data = select_load(test_df_list,k)\n",
    "    acc_origin_step += cur_data[1]\n",
    "    cur_env = init_env(cur_data)\n",
    "    terminal = False\n",
    "    # cur_state: [[현재 z 거리, 바로 전 z 거리, 현재 SFR, 바로 전 SFR, 기울기]]\n",
    "    cur_state = np.expand_dims(np.asarray([cur_data[0].iloc[0,1], cur_data[0].iloc[0,1], cur_env[1], cur_env[1],0]),axis=0)\n",
    "    reward = 0\n",
    "    cur_step = 0\n",
    "    episode_reward = 0\n",
    "    episode_step = 0\n",
    "    \n",
    "    while terminal == False:\n",
    "        action = best_decide(model, cur_state)\n",
    "        cur_step += action\n",
    "#             print(cur_step, end = ' ')\n",
    "        past_state = cur_state\n",
    "        cur_env, cur_state, reward, memory_D = update_env(cur_data,cur_env,action, memory_D, cur_state)\n",
    "        episode_reward += reward\n",
    "        episode_step += 1\n",
    "#         print('episode_reward : ', round(episode_reward,2))\n",
    "#         print('스탭 개선 수 : ', cur_step - episode_step,'\\n')\n",
    "    advanced_step += cur_step - episode_step\n",
    "    acc_episode_step += episode_step\n",
    "    acc_reward += episode_reward\n",
    "print('\\n모든 데이터 시뮬레이션 결과 정리')\n",
    "print('평균 개선 step 수 : ', advanced_step/len(test_df_list))\n",
    "print('개선율 : ', 100*acc_episode_step/acc_origin_step, '%')\n",
    "print('실패율 : ', 100*failed/len(test_df_list),'%')\n",
    "print('명령을 따랐는데 실패한 횟수 : ', failed)\n",
    "print('평균 누적 Reward : ', round(acc_reward/len(test_df_list),2),'\\n')\n",
    "\n",
    "\n",
    "        \n",
    "    "
   ]
  },
  {
   "cell_type": "markdown",
   "metadata": {},
   "source": [
    "## 아래는 데이터 전처리하였던 코드 (정리 안된 상태)"
   ]
  },
  {
   "cell_type": "code",
   "execution_count": null,
   "metadata": {},
   "outputs": [],
   "source": [
    "count=0\n",
    "idx=[]\n",
    "for i in range(len(df_list)):\n",
    "    if str(type(df_list[i].loc[0,'CentSFR 0.7'])) != \"<class 'numpy.float64'>\":\n",
    "        idx.append(i)\n",
    "        count+=1\n",
    "        print(i)\n",
    "        print(df_list[i])\n",
    "#         if len(df_list[i])<10:\n",
    "#             print('뷁',i)\n",
    "#         if len(df_list[i])<10:\n",
    "#             count+=1\n",
    "#             print(i, df_list[i]['CentSFR 0.7'].argmax())\n",
    "#             print(df_list[i])\n",
    "print(count)"
   ]
  },
  {
   "cell_type": "code",
   "execution_count": null,
   "metadata": {},
   "outputs": [],
   "source": [
    "df_list[idx[0]].index[10]"
   ]
  },
  {
   "cell_type": "code",
   "execution_count": null,
   "metadata": {},
   "outputs": [],
   "source": [
    "k=0\n",
    "for i in idx:\n",
    "    tmp_df = df_list[i-k]\n",
    "    tmp_idx=[]\n",
    "    for j in range(len(tmp_df)):\n",
    "        \n",
    "        if tmp_df.index[j]==0:\n",
    "            tmp_idx.append(j)\n",
    "    for j in range(len(tmp_idx)):\n",
    "        if j != len(tmp_idx)-1:\n",
    "            df_list.append(tmp_df.iloc[tmp_idx[j]:tmp_idx[j+1],:])\n",
    "        else:\n",
    "            df_list.append(tmp_df.iloc[tmp_idx[j]:,:])\n",
    "    df_list.pop(i-k)\n",
    "    k+=1"
   ]
  },
  {
   "cell_type": "code",
   "execution_count": null,
   "metadata": {},
   "outputs": [],
   "source": [
    "i"
   ]
  },
  {
   "cell_type": "code",
   "execution_count": null,
   "metadata": {},
   "outputs": [],
   "source": [
    "for i in range(len(df_list)):\n",
    "    if df_list[i].index[0]!=0:\n",
    "        print(i)\n",
    "        print(df_list[i])"
   ]
  },
  {
   "cell_type": "code",
   "execution_count": null,
   "metadata": {},
   "outputs": [],
   "source": [
    "df_list.pop(48503)"
   ]
  },
  {
   "cell_type": "code",
   "execution_count": null,
   "metadata": {},
   "outputs": [],
   "source": [
    "for i in range(len(idx)):\n",
    "    if len(df_list[idx[i]].loc[0,:]) != 2:\n",
    "        print(len(df_list[idx[i]].loc[0,:]))"
   ]
  },
  {
   "cell_type": "code",
   "execution_count": null,
   "metadata": {},
   "outputs": [],
   "source": [
    "len(df_list)"
   ]
  },
  {
   "cell_type": "code",
   "execution_count": null,
   "metadata": {},
   "outputs": [],
   "source": [
    "df_list[4316].index[0]"
   ]
  },
  {
   "cell_type": "code",
   "execution_count": null,
   "metadata": {},
   "outputs": [],
   "source": [
    "df_list[9313].iloc[2:,2].argmax()+2"
   ]
  },
  {
   "cell_type": "code",
   "execution_count": null,
   "metadata": {},
   "outputs": [],
   "source": [
    "df_list[9313].iloc[2:]"
   ]
  },
  {
   "cell_type": "code",
   "execution_count": null,
   "metadata": {},
   "outputs": [],
   "source": [
    "df_list[1062]['CentSFR 0.7'].iloc[2:].argmax()"
   ]
  },
  {
   "cell_type": "code",
   "execution_count": null,
   "metadata": {},
   "outputs": [],
   "source": [
    "df_list[1062]['CentSFR 0.7'].iloc[:]"
   ]
  },
  {
   "cell_type": "code",
   "execution_count": null,
   "metadata": {},
   "outputs": [],
   "source": [
    "len(memory_D)"
   ]
  }
 ],
 "metadata": {
  "kernelspec": {
   "display_name": "Python 3 (ipykernel)",
   "language": "python",
   "name": "python3"
  },
  "language_info": {
   "codemirror_mode": {
    "name": "ipython",
    "version": 3
   },
   "file_extension": ".py",
   "mimetype": "text/x-python",
   "name": "python",
   "nbconvert_exporter": "python",
   "pygments_lexer": "ipython3",
   "version": "3.8.13"
  }
 },
 "nbformat": 4,
 "nbformat_minor": 4
}
